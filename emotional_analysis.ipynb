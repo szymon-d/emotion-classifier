{
 "cells": [
  {
   "cell_type": "code",
   "execution_count": 14,
   "metadata": {},
   "outputs": [],
   "source": [
    "import numpy as np\n",
    "import pandas as pd\n",
    "import tensorflow as tf\n",
    "import nltk\n",
    "import re\n",
    "import os\n",
    "from pathlib import Path\n",
    "from nltk.stem import WordNetLemmatizer\n",
    "from nltk.corpus import stopwords\n",
    "import pickle\n",
    "import matplotlib.pyplot as plt\n",
    "from tensorflow.keras.layers import Dense, Embedding, LSTM, Dropout\n",
    "from tensorflow.keras.models import Sequential\n",
    "from tensorflow.keras.preprocessing.text import one_hot\n",
    "from tensorflow.keras.preprocessing.sequence import pad_sequences\n",
    "from tensorflow.keras.callbacks import ReduceLROnPlateau\n",
    "from sklearn.metrics import accuracy_score, recall_score, precision_score, f1_score\n",
    "import sys\n",
    "import warnings"
   ]
  },
  {
   "cell_type": "code",
   "execution_count": 15,
   "metadata": {},
   "outputs": [],
   "source": [
    "if not sys.warnoptions:\n",
    "    warnings.simplefilter(\"ignore\")"
   ]
  },
  {
   "cell_type": "code",
   "execution_count": 2,
   "metadata": {},
   "outputs": [],
   "source": [
    "files = os.listdir()"
   ]
  },
  {
   "cell_type": "code",
   "execution_count": 3,
   "metadata": {},
   "outputs": [
    {
     "data": {
      "text/plain": [
       "['.ipynb_checkpoints',\n",
       " 'DATA',\n",
       " 'emotional_analysis.ipynb',\n",
       " 'model',\n",
       " 'test.txt',\n",
       " 'train.txt',\n",
       " 'val.txt']"
      ]
     },
     "execution_count": 3,
     "metadata": {},
     "output_type": "execute_result"
    }
   ],
   "source": [
    "files"
   ]
  },
  {
   "cell_type": "code",
   "execution_count": 4,
   "metadata": {},
   "outputs": [],
   "source": [
    "train = pd.read_csv('train.txt', sep = ';', names = ['message', 'emot'])\n",
    "test = pd.read_csv('test.txt', sep = ';', names = ['message', 'emot'])\n",
    "val = pd.read_csv('val.txt', sep = ';', names = ['message', 'emot'])"
   ]
  },
  {
   "cell_type": "code",
   "execution_count": 5,
   "metadata": {},
   "outputs": [],
   "source": [
    "df = pd.concat([train, test, val], axis = 0).reset_index(drop = True)"
   ]
  },
  {
   "cell_type": "code",
   "execution_count": 6,
   "metadata": {},
   "outputs": [],
   "source": [
    "emotions = {emot:len(df[df['emot'] == emot]['emot']) for emot in set(df['emot'])}"
   ]
  },
  {
   "cell_type": "code",
   "execution_count": 17,
   "metadata": {},
   "outputs": [
    {
     "data": {
      "image/png": "[encoded data removed]",
      "text/plain": [
       "<Figure size 576x576 with 1 Axes>"
      ]
     },
     "metadata": {
      "needs_background": "dark"
     },
     "output_type": "display_data"
    }
   ],
   "source": [
    "fig = plt.figure(figsize = (8,8))\n",
    "ax = fig.add_subplot(1,1,1)\n",
    "ax.bar(emotions.keys(), emotions.values(), width = 0.7, color = 'green')\n",
    "ax.set_xlabel('Emotion', fontsize = 20, color = 'white')\n",
    "ax.set_ylabel('Amount', fontsize = 20, color = 'white')\n",
    "ax.set_xticklabels(labels = emotions.keys(), color = 'white', fontsize = 12, rotation = 45)\n",
    "ax.set_yticklabels(labels = emotions.values(), color = 'white', fontsize = 12)\n",
    "\n",
    "plt.show()"
   ]
  },
  {
   "cell_type": "code",
   "execution_count": 19,
   "metadata": {},
   "outputs": [
    {
     "data": {
      "text/plain": [
       "(16000, 2)"
      ]
     },
     "execution_count": 19,
     "metadata": {},
     "output_type": "execute_result"
    }
   ],
   "source": [
    "train.shape"
   ]
  },
  {
   "cell_type": "code",
   "execution_count": 20,
   "metadata": {},
   "outputs": [
    {
     "data": {
      "text/plain": [
       "(2000, 2)"
      ]
     },
     "execution_count": 20,
     "metadata": {},
     "output_type": "execute_result"
    }
   ],
   "source": [
    "test.shape"
   ]
  },
  {
   "cell_type": "code",
   "execution_count": 21,
   "metadata": {},
   "outputs": [
    {
     "data": {
      "text/plain": [
       "(2000, 2)"
      ]
     },
     "execution_count": 21,
     "metadata": {},
     "output_type": "execute_result"
    }
   ],
   "source": [
    "val.shape"
   ]
  },
  {
   "cell_type": "code",
   "execution_count": 22,
   "metadata": {},
   "outputs": [
    {
     "data": {
      "text/html": [
       "<div>\n",
       "<style scoped>\n",
       "    .dataframe tbody tr th:only-of-type {\n",
       "        vertical-align: middle;\n",
       "    }\n",
       "\n",
       "    .dataframe tbody tr th {\n",
       "        vertical-align: top;\n",
       "    }\n",
       "\n",
       "    .dataframe thead th {\n",
       "        text-align: right;\n",
       "    }\n",
       "</style>\n",
       "<table border=\"1\" class=\"dataframe\">\n",
       "  <thead>\n",
       "    <tr style=\"text-align: right;\">\n",
       "      <th></th>\n",
       "      <th>message</th>\n",
       "      <th>emot</th>\n",
       "    </tr>\n",
       "  </thead>\n",
       "  <tbody>\n",
       "    <tr>\n",
       "      <th>0</th>\n",
       "      <td>i didnt feel humiliated</td>\n",
       "      <td>sadness</td>\n",
       "    </tr>\n",
       "    <tr>\n",
       "      <th>1</th>\n",
       "      <td>i can go from feeling so hopeless to so damned...</td>\n",
       "      <td>sadness</td>\n",
       "    </tr>\n",
       "    <tr>\n",
       "      <th>2</th>\n",
       "      <td>im grabbing a minute to post i feel greedy wrong</td>\n",
       "      <td>anger</td>\n",
       "    </tr>\n",
       "    <tr>\n",
       "      <th>3</th>\n",
       "      <td>i am ever feeling nostalgic about the fireplac...</td>\n",
       "      <td>love</td>\n",
       "    </tr>\n",
       "    <tr>\n",
       "      <th>4</th>\n",
       "      <td>i am feeling grouchy</td>\n",
       "      <td>anger</td>\n",
       "    </tr>\n",
       "    <tr>\n",
       "      <th>...</th>\n",
       "      <td>...</td>\n",
       "      <td>...</td>\n",
       "    </tr>\n",
       "    <tr>\n",
       "      <th>15995</th>\n",
       "      <td>i just had a very brief time in the beanbag an...</td>\n",
       "      <td>sadness</td>\n",
       "    </tr>\n",
       "    <tr>\n",
       "      <th>15996</th>\n",
       "      <td>i am now turning and i feel pathetic that i am...</td>\n",
       "      <td>sadness</td>\n",
       "    </tr>\n",
       "    <tr>\n",
       "      <th>15997</th>\n",
       "      <td>i feel strong and good overall</td>\n",
       "      <td>joy</td>\n",
       "    </tr>\n",
       "    <tr>\n",
       "      <th>15998</th>\n",
       "      <td>i feel like this was such a rude comment and i...</td>\n",
       "      <td>anger</td>\n",
       "    </tr>\n",
       "    <tr>\n",
       "      <th>15999</th>\n",
       "      <td>i know a lot but i feel so stupid because i ca...</td>\n",
       "      <td>sadness</td>\n",
       "    </tr>\n",
       "  </tbody>\n",
       "</table>\n",
       "<p>16000 rows × 2 columns</p>\n",
       "</div>"
      ],
      "text/plain": [
       "                                                 message     emot\n",
       "0                                i didnt feel humiliated  sadness\n",
       "1      i can go from feeling so hopeless to so damned...  sadness\n",
       "2       im grabbing a minute to post i feel greedy wrong    anger\n",
       "3      i am ever feeling nostalgic about the fireplac...     love\n",
       "4                                   i am feeling grouchy    anger\n",
       "...                                                  ...      ...\n",
       "15995  i just had a very brief time in the beanbag an...  sadness\n",
       "15996  i am now turning and i feel pathetic that i am...  sadness\n",
       "15997                     i feel strong and good overall      joy\n",
       "15998  i feel like this was such a rude comment and i...    anger\n",
       "15999  i know a lot but i feel so stupid because i ca...  sadness\n",
       "\n",
       "[16000 rows x 2 columns]"
      ]
     },
     "execution_count": 22,
     "metadata": {},
     "output_type": "execute_result"
    }
   ],
   "source": [
    "train"
   ]
  },
  {
   "cell_type": "code",
   "execution_count": 23,
   "metadata": {},
   "outputs": [],
   "source": [
    "def text_processing(text):\n",
    "    review = text.lower()\n",
    "    review = re.sub('/s+', ' ', review)\n",
    "    review = re.sub('/d', '', review)\n",
    "    tokens = nltk.word_tokenize(review)\n",
    "    \n",
    "    lem = WordNetLemmatizer()\n",
    "    tokens = [lem.lemmatize(word) for word in tokens if word not in stopwords.words('english')]\n",
    "    \n",
    "    sent = ' '.join(tokens)\n",
    "\n",
    "    return sent"
   ]
  },
  {
   "cell_type": "code",
   "execution_count": 81,
   "metadata": {},
   "outputs": [],
   "source": [
    "train = pd.concat([train['message'].apply(text_processing), train['emot']], axis = 1)\n",
    "test = pd.concat([test['message'].apply(text_processing), test['emot']], axis = 1)\n",
    "val = pd.concat([val['message'].apply(text_processing), val['emot']], axis = 1)"
   ]
  },
  {
   "cell_type": "code",
   "execution_count": 82,
   "metadata": {},
   "outputs": [],
   "source": [
    "if not data_dir.exists():\n",
    "    os.mkdir(data_dir)\n",
    "\n",
    "with open(data_dir/'train.pkl', 'wb') as file:\n",
    "    pickle.dump(train, file)\n",
    "    \n",
    "with open(data_dir/'test.pkl', 'wb') as file:\n",
    "    pickle.dump(test, file)\n",
    "    \n",
    "with open(data_dir/'val.pkl', 'wb') as file:\n",
    "    pickle.dump(val, file)\n"
   ]
  },
  {
   "cell_type": "code",
   "execution_count": 29,
   "metadata": {},
   "outputs": [],
   "source": [
    "vocabulary_size = 5000 \n",
    "sent_len = 40\n",
    "features = 10\n",
    "\n",
    "data_dir = Path.cwd()/'DATA'"
   ]
  },
  {
   "cell_type": "code",
   "execution_count": 25,
   "metadata": {},
   "outputs": [],
   "source": [
    "def vectorizer(text, vocabulary_size = 5000, sent_len = 40):\n",
    "    one_hot_rep = [one_hot(text, vocabulary_size )]\n",
    "    vector = pad_sequences(one_hot_rep, maxlen = sent_len, padding = 'pre')\n",
    "    return vector"
   ]
  },
  {
   "cell_type": "code",
   "execution_count": 26,
   "metadata": {},
   "outputs": [],
   "source": [
    "all_classes = set(pd.concat([train['emot'], test['emot'], val['emot']], axis = 0))\n",
    "class_mapper = {emot:number for number,emot in enumerate(all_classes)}"
   ]
  },
  {
   "cell_type": "code",
   "execution_count": 138,
   "metadata": {},
   "outputs": [],
   "source": [
    "X_train = train['message'].apply(vectorizer)\n",
    "X_train = np.array([i for i in X_train]).reshape(-1, sent_len)\n",
    "y_train = tf.keras.utils.to_categorical(np.array(train['emot'].map(class_mapper)))\n",
    "\n",
    "X_test = test['message'].apply(vectorizer)\n",
    "X_test = np.array([i for i in X_test]).reshape(-1, sent_len)\n",
    "y_test = tf.keras.utils.to_categorical(np.array(test['emot'].map(class_mapper)))\n",
    "\n",
    "X_val = val['message'].apply(vectorizer)\n",
    "X_val = np.array([i for i in X_val]).reshape(-1, sent_len)\n",
    "y_val = tf.keras.utils.to_categorical(np.array(val['emot'].map(class_mapper)))\n",
    "\n",
    "datas = {'X_train':X_train, 'y_train':y_train, 'X_test':X_test,\n",
    "          'y_test':y_test, 'X_val':X_val, 'y_val':y_val}\n",
    "\n",
    "for i in datas.keys():\n",
    "    path = i + '.pkl'\n",
    "    with open(data_dir/path, 'wb') as file:\n",
    "        pickle.dump(datas[i], file)"
   ]
  },
  {
   "cell_type": "code",
   "execution_count": 27,
   "metadata": {},
   "outputs": [],
   "source": [
    "def load_data():\n",
    "        with open(data_dir/'X_train.pkl', 'rb') as file:\n",
    "            X_train = pickle.load(file)\n",
    "        with open(data_dir/'y_train.pkl', 'rb') as file:\n",
    "            y_train = pickle.load(file)\n",
    "    \n",
    "        with open(data_dir/'X_test.pkl', 'rb') as file:\n",
    "            X_test = pickle.load(file)\n",
    "        with open(data_dir/'y_test.pkl', 'rb') as file:\n",
    "            y_test = pickle.load(file)\n",
    "            \n",
    "        with open(data_dir/'X_val.pkl', 'rb') as file:\n",
    "            X_val = pickle.load(file)\n",
    "        with open(data_dir/'y_val.pkl', 'rb') as file:\n",
    "            y_val = pickle.load(file)\n",
    "        \n",
    "        return X_train, y_train, X_test, y_test, X_val, y_val"
   ]
  },
  {
   "cell_type": "code",
   "execution_count": 30,
   "metadata": {},
   "outputs": [],
   "source": [
    "try: \n",
    "    X_train *2\n",
    "    y_train *2\n",
    "except:\n",
    "    X_train, y_train, X_test, y_test, X_val, y_val = load_data()"
   ]
  },
  {
   "cell_type": "code",
   "execution_count": 31,
   "metadata": {},
   "outputs": [],
   "source": [
    "model = Sequential()\n",
    "model.add(Embedding(input_dim = vocabulary_size, output_dim = features, input_length = sent_len))\n",
    "model.add(Dropout(rate = 0.1))\n",
    "model.add(LSTM(100, return_sequences = True, activation = 'relu'))\n",
    "model.add(Dropout(rate = 0.1))\n",
    "model.add(LSTM(50))\n",
    "model.add(Dense(units = len(y_train[0]), activation = 'sigmoid'))\n",
    "\n",
    "model.compile(optimizer = 'Adam', loss = 'categorical_crossentropy', metrics = 'accuracy')\n",
    "reductor = ReduceLROnPlateau(monitor = 'val_loss', factor = 0.2, patience = 5, verbose = 1)"
   ]
  },
  {
   "cell_type": "code",
   "execution_count": 32,
   "metadata": {},
   "outputs": [
    {
     "name": "stdout",
     "output_type": "stream",
     "text": [
      "Epoch 1/50\n",
      "250/250 [==============================] - 116s 411ms/step - loss: 1.6110 - accuracy: 0.3340 - val_loss: 1.3505 - val_accuracy: 0.5180\n",
      "Epoch 2/50\n",
      "250/250 [==============================] - 82s 328ms/step - loss: 1.1228 - accuracy: 0.5827 - val_loss: 0.8484 - val_accuracy: 0.6550\n",
      "Epoch 3/50\n",
      "250/250 [==============================] - 45s 181ms/step - loss: 0.7215 - accuracy: 0.7163 - val_loss: 0.7073 - val_accuracy: 0.7370\n",
      "Epoch 4/50\n",
      "250/250 [==============================] - 45s 179ms/step - loss: 0.5351 - accuracy: 0.8092 - val_loss: 0.5335 - val_accuracy: 0.8135\n",
      "Epoch 5/50\n",
      "250/250 [==============================] - 50s 201ms/step - loss: 0.4130 - accuracy: 0.8606 - val_loss: 0.4714 - val_accuracy: 0.8375\n",
      "Epoch 6/50\n",
      "250/250 [==============================] - 42s 170ms/step - loss: 0.3287 - accuracy: 0.8897 - val_loss: 0.4515 - val_accuracy: 0.8475\n",
      "Epoch 7/50\n",
      "250/250 [==============================] - 42s 170ms/step - loss: 0.2776 - accuracy: 0.9038 - val_loss: 0.4458 - val_accuracy: 0.8425\n",
      "Epoch 8/50\n",
      "250/250 [==============================] - 59s 234ms/step - loss: 0.2577 - accuracy: 0.9114 - val_loss: 0.4381 - val_accuracy: 0.8470\n",
      "Epoch 9/50\n",
      "250/250 [==============================] - 68s 274ms/step - loss: 0.2439 - accuracy: 0.9164 - val_loss: 0.4342 - val_accuracy: 0.8495\n",
      "Epoch 10/50\n",
      "250/250 [==============================] - 61s 243ms/step - loss: 0.2210 - accuracy: 0.9194 - val_loss: 0.4369 - val_accuracy: 0.8540\n",
      "Epoch 11/50\n",
      "250/250 [==============================] - 55s 219ms/step - loss: 0.1953 - accuracy: 0.9286 - val_loss: 0.4163 - val_accuracy: 0.8670\n",
      "Epoch 12/50\n",
      "250/250 [==============================] - 68s 272ms/step - loss: 0.1852 - accuracy: 0.9339 - val_loss: 0.4452 - val_accuracy: 0.8620\n",
      "Epoch 13/50\n",
      "250/250 [==============================] - 66s 263ms/step - loss: 0.1745 - accuracy: 0.9368 - val_loss: 0.4400 - val_accuracy: 0.8665\n",
      "Epoch 14/50\n",
      "250/250 [==============================] - 75s 300ms/step - loss: 0.1759 - accuracy: 0.9364 - val_loss: 0.4382 - val_accuracy: 0.8650\n",
      "Epoch 15/50\n",
      "250/250 [==============================] - 43s 171ms/step - loss: 0.1679 - accuracy: 0.9369 - val_loss: 0.4944 - val_accuracy: 0.8490\n",
      "Epoch 16/50\n",
      "250/250 [==============================] - 48s 193ms/step - loss: 0.1648 - accuracy: 0.9413 - val_loss: 0.4515 - val_accuracy: 0.8615\n",
      "\n",
      "Epoch 00016: ReduceLROnPlateau reducing learning rate to 0.00020000000949949026.\n",
      "Epoch 17/50\n",
      "250/250 [==============================] - 61s 245ms/step - loss: 0.1353 - accuracy: 0.9522 - val_loss: 0.4580 - val_accuracy: 0.8640\n",
      "Epoch 18/50\n",
      "250/250 [==============================] - 55s 221ms/step - loss: 0.1312 - accuracy: 0.9525 - val_loss: 0.4600 - val_accuracy: 0.8620\n",
      "Epoch 19/50\n",
      "250/250 [==============================] - 55s 218ms/step - loss: 0.1243 - accuracy: 0.9533 - val_loss: 0.4717 - val_accuracy: 0.8630\n",
      "Epoch 20/50\n",
      "250/250 [==============================] - 69s 275ms/step - loss: 0.1193 - accuracy: 0.9547 - val_loss: 0.4806 - val_accuracy: 0.8570\n",
      "Epoch 21/50\n",
      "250/250 [==============================] - 59s 238ms/step - loss: 0.1106 - accuracy: 0.9581 - val_loss: 0.4819 - val_accuracy: 0.8570\n",
      "\n",
      "Epoch 00021: ReduceLROnPlateau reducing learning rate to 4.0000001899898055e-05.\n",
      "Epoch 22/50\n",
      "250/250 [==============================] - 44s 177ms/step - loss: 0.1163 - accuracy: 0.9576 - val_loss: 0.4851 - val_accuracy: 0.8570\n",
      "Epoch 23/50\n",
      "250/250 [==============================] - 44s 176ms/step - loss: 0.1066 - accuracy: 0.9610 - val_loss: 0.4946 - val_accuracy: 0.8585\n",
      "Epoch 24/50\n",
      "250/250 [==============================] - 58s 231ms/step - loss: 0.1140 - accuracy: 0.9580 - val_loss: 0.4952 - val_accuracy: 0.8590\n",
      "Epoch 25/50\n",
      "250/250 [==============================] - 59s 236ms/step - loss: 0.1077 - accuracy: 0.9608 - val_loss: 0.4997 - val_accuracy: 0.8585\n",
      "Epoch 26/50\n",
      "250/250 [==============================] - 51s 205ms/step - loss: 0.1150 - accuracy: 0.9589 - val_loss: 0.5034 - val_accuracy: 0.8560\n",
      "\n",
      "Epoch 00026: ReduceLROnPlateau reducing learning rate to 8.000000525498762e-06.\n",
      "Epoch 27/50\n",
      "250/250 [==============================] - 48s 193ms/step - loss: 0.1091 - accuracy: 0.9602 - val_loss: 0.5046 - val_accuracy: 0.8570\n",
      "Epoch 28/50\n",
      "250/250 [==============================] - 54s 215ms/step - loss: 0.1203 - accuracy: 0.9548 - val_loss: 0.5046 - val_accuracy: 0.8575\n",
      "Epoch 29/50\n",
      "250/250 [==============================] - 66s 265ms/step - loss: 0.1078 - accuracy: 0.9592 - val_loss: 0.5046 - val_accuracy: 0.8595\n",
      "Epoch 30/50\n",
      "250/250 [==============================] - 78s 312ms/step - loss: 0.1119 - accuracy: 0.9584 - val_loss: 0.5056 - val_accuracy: 0.8565\n",
      "Epoch 31/50\n",
      "250/250 [==============================] - 67s 270ms/step - loss: 0.1164 - accuracy: 0.9595 - val_loss: 0.5041 - val_accuracy: 0.8580\n",
      "\n",
      "Epoch 00031: ReduceLROnPlateau reducing learning rate to 1.6000001778593287e-06.\n",
      "Epoch 32/50\n",
      "250/250 [==============================] - 77s 307ms/step - loss: 0.1157 - accuracy: 0.9564 - val_loss: 0.5043 - val_accuracy: 0.8580\n",
      "Epoch 33/50\n",
      "250/250 [==============================] - 74s 295ms/step - loss: 0.1195 - accuracy: 0.9549 - val_loss: 0.5044 - val_accuracy: 0.8585\n",
      "Epoch 34/50\n",
      "250/250 [==============================] - 59s 237ms/step - loss: 0.1113 - accuracy: 0.9582 - val_loss: 0.5049 - val_accuracy: 0.8580\n",
      "Epoch 35/50\n",
      "250/250 [==============================] - 60s 242ms/step - loss: 0.1051 - accuracy: 0.9622 - val_loss: 0.5050 - val_accuracy: 0.8585\n",
      "Epoch 36/50\n",
      "250/250 [==============================] - 59s 235ms/step - loss: 0.1112 - accuracy: 0.9580 - val_loss: 0.5056 - val_accuracy: 0.8595\n",
      "\n",
      "Epoch 00036: ReduceLROnPlateau reducing learning rate to 3.200000264769187e-07.\n",
      "Epoch 37/50\n",
      "250/250 [==============================] - 58s 230ms/step - loss: 0.1148 - accuracy: 0.9566 - val_loss: 0.5055 - val_accuracy: 0.8595\n",
      "Epoch 38/50\n",
      "250/250 [==============================] - 58s 231ms/step - loss: 0.1110 - accuracy: 0.9586 - val_loss: 0.5056 - val_accuracy: 0.8595\n",
      "Epoch 39/50\n",
      "250/250 [==============================] - 62s 246ms/step - loss: 0.1157 - accuracy: 0.9584 - val_loss: 0.5055 - val_accuracy: 0.8590\n",
      "Epoch 40/50\n",
      "250/250 [==============================] - 60s 240ms/step - loss: 0.1119 - accuracy: 0.9589 - val_loss: 0.5055 - val_accuracy: 0.8590\n",
      "Epoch 41/50\n",
      "250/250 [==============================] - 68s 271ms/step - loss: 0.1147 - accuracy: 0.9588 - val_loss: 0.5055 - val_accuracy: 0.8590\n",
      "\n",
      "Epoch 00041: ReduceLROnPlateau reducing learning rate to 6.400000529538374e-08.\n",
      "Epoch 42/50\n",
      "250/250 [==============================] - 83s 332ms/step - loss: 0.1113 - accuracy: 0.9614 - val_loss: 0.5055 - val_accuracy: 0.8590\n",
      "Epoch 43/50\n",
      "250/250 [==============================] - 70s 281ms/step - loss: 0.1123 - accuracy: 0.9589 - val_loss: 0.5055 - val_accuracy: 0.8590\n",
      "Epoch 44/50\n",
      "250/250 [==============================] - 63s 254ms/step - loss: 0.1096 - accuracy: 0.9595 - val_loss: 0.5055 - val_accuracy: 0.8590\n",
      "Epoch 45/50\n",
      "250/250 [==============================] - 63s 251ms/step - loss: 0.1106 - accuracy: 0.9591 - val_loss: 0.5055 - val_accuracy: 0.8590\n",
      "Epoch 46/50\n",
      "250/250 [==============================] - 63s 251ms/step - loss: 0.1105 - accuracy: 0.9598 - val_loss: 0.5055 - val_accuracy: 0.8590\n",
      "\n",
      "Epoch 00046: ReduceLROnPlateau reducing learning rate to 1.2800001059076749e-08.\n",
      "Epoch 47/50\n",
      "250/250 [==============================] - 77s 307ms/step - loss: 0.1111 - accuracy: 0.9589 - val_loss: 0.5055 - val_accuracy: 0.8590\n",
      "Epoch 48/50\n",
      "250/250 [==============================] - 69s 277ms/step - loss: 0.1107 - accuracy: 0.9609 - val_loss: 0.5055 - val_accuracy: 0.8590\n",
      "Epoch 49/50\n",
      "250/250 [==============================] - 76s 302ms/step - loss: 0.1095 - accuracy: 0.9603 - val_loss: 0.5055 - val_accuracy: 0.8590\n",
      "Epoch 50/50\n",
      "250/250 [==============================] - 66s 265ms/step - loss: 0.1107 - accuracy: 0.9578 - val_loss: 0.5055 - val_accuracy: 0.8590\n"
     ]
    },
    {
     "data": {
      "text/plain": [
       "<tensorflow.python.keras.callbacks.History at 0x1bee72811c0>"
      ]
     },
     "execution_count": 32,
     "metadata": {},
     "output_type": "execute_result"
    }
   ],
   "source": [
    "model.fit(X_train, y_train, validation_data = (X_val, y_val), batch_size = 64,\n",
    "          epochs = 50, callbacks = [reductor])"
   ]
  },
  {
   "cell_type": "code",
   "execution_count": 33,
   "metadata": {},
   "outputs": [
    {
     "name": "stderr",
     "output_type": "stream",
     "text": [
      "WARNING:absl:Found untraced functions such as lstm_cell_1_layer_call_and_return_conditional_losses, lstm_cell_1_layer_call_fn, lstm_cell_1_layer_call_fn, lstm_cell_1_layer_call_and_return_conditional_losses, lstm_cell_1_layer_call_and_return_conditional_losses while saving (showing 5 of 5). These functions will not be directly callable after loading.\n",
      "WARNING:absl:Found untraced functions such as lstm_cell_1_layer_call_and_return_conditional_losses, lstm_cell_1_layer_call_fn, lstm_cell_1_layer_call_fn, lstm_cell_1_layer_call_and_return_conditional_losses, lstm_cell_1_layer_call_and_return_conditional_losses while saving (showing 5 of 5). These functions will not be directly callable after loading.\n"
     ]
    },
    {
     "name": "stdout",
     "output_type": "stream",
     "text": [
      "INFO:tensorflow:Assets written to: A:\\ML\\NLP\\Emotional_analysis\\model\\assets\n"
     ]
    },
    {
     "name": "stderr",
     "output_type": "stream",
     "text": [
      "INFO:tensorflow:Assets written to: A:\\ML\\NLP\\Emotional_analysis\\model\\assets\n"
     ]
    }
   ],
   "source": [
    "model.save(Path.cwd()/'model')"
   ]
  },
  {
   "cell_type": "code",
   "execution_count": 35,
   "metadata": {},
   "outputs": [],
   "source": [
    "def validation(X, y, model, what_data, class_mapper):\n",
    "    print('___________________{0} DATA___________________'.format(what_data.upper()))\n",
    "    class_mapper = {class_mapper[key]: key for key in class_mapper.keys()}\n",
    "    y_pred = model.predict(X)\n",
    "    y = [i.argmax() for i in y]\n",
    "    y_pred= [i.argmax() for i in y_pred]\n",
    "\n",
    "    all_classes = set(y)\n",
    "    \n",
    "    class_index = {_class:[number for number,i in enumerate(y) if i == _class] for _class in all_classes}    \n",
    "        \n",
    "    def class_accuracy(_class, _index, y, y_pred, class_mapper):\n",
    "        y = [y[i] for i in _index]\n",
    "        y_pred = [y_pred[i] for i in _index]\n",
    "\n",
    "        accuracy = round(accuracy_score(y, y_pred), ndigits = 2, )*100\n",
    "        print('For {0} accuracy = {1}%'.format(class_mapper[_class].upper(), accuracy))\n",
    "            \n",
    "    for i in all_classes:\n",
    "        class_accuracy(i, class_index[i], y, y_pred, class_mapper)\n",
    "            \n",
    "    \n",
    "    \n",
    "    \n",
    "    accuracy = round(accuracy_score(y, y_pred), ndigits = 2, )*100\n",
    "    precision = round(precision_score(y, y_pred, average = 'weighted'), ndigits = 2)*100\n",
    "    recall = round(recall_score(y, y_pred, average = 'weighted'), ndigits = 2)*100\n",
    "    f1 = round(f1_score(y, y_pred, average = 'weighted'), ndigits = 2)\n",
    "    \n",
    "    print('Accuracy = {0}%'.format(accuracy))\n",
    "    print('Precision = {0}%'.format(precision))\n",
    "    print('Recall = {0}%'.format(recall))\n",
    "    print('F1-score = {0}'.format(f1))\n",
    "    print('_______________________________________________')\n",
    "    \n",
    "    \n",
    "    "
   ]
  },
  {
   "cell_type": "code",
   "execution_count": 36,
   "metadata": {},
   "outputs": [
    {
     "name": "stdout",
     "output_type": "stream",
     "text": [
      "___________________TRAIN DATA___________________\n",
      "For JOY accuracy = 96.0%\n",
      "For SADNESS accuracy = 97.0%\n",
      "For ANGER accuracy = 93.0%\n",
      "For SURPRISE accuracy = 86.0%\n",
      "For LOVE accuracy = 99.0%\n",
      "For FEAR accuracy = 98.0%\n",
      "Accuracy = 97.0%\n",
      "Precision = 97.0%\n",
      "Recall = 97.0%\n",
      "F1-score = 0.97\n",
      "_______________________________________________\n",
      "___________________TEST DATA___________________\n",
      "For JOY accuracy = 75.0%\n",
      "For SADNESS accuracy = 87.0%\n",
      "For ANGER accuracy = 81.0%\n",
      "For SURPRISE accuracy = 64.0%\n",
      "For LOVE accuracy = 91.0%\n",
      "For FEAR accuracy = 87.0%\n",
      "Accuracy = 86.0%\n",
      "Precision = 86.0%\n",
      "Recall = 86.0%\n",
      "F1-score = 0.86\n",
      "_______________________________________________\n",
      "___________________VALIDATION DATA___________________\n",
      "For JOY accuracy = 75.0%\n",
      "For SADNESS accuracy = 84.0%\n",
      "For ANGER accuracy = 79.0%\n",
      "For SURPRISE accuracy = 77.0%\n",
      "For LOVE accuracy = 94.0%\n",
      "For FEAR accuracy = 86.0%\n",
      "Accuracy = 86.0%\n",
      "Precision = 86.0%\n",
      "Recall = 86.0%\n",
      "F1-score = 0.86\n",
      "_______________________________________________\n"
     ]
    }
   ],
   "source": [
    "validation(X_train, y_train, model, 'train', class_mapper)\n",
    "validation(X_test, y_test, model, 'test', class_mapper)\n",
    "validation(X_val, y_val, model, 'validation', class_mapper)"
   ]
  },
  {
   "cell_type": "code",
   "execution_count": null,
   "metadata": {},
   "outputs": [],
   "source": []
  },
  {
   "cell_type": "code",
   "execution_count": null,
   "metadata": {},
   "outputs": [],
   "source": []
  }
 ],
 "metadata": {
  "kernelspec": {
   "display_name": "Python 3",
   "language": "python",
   "name": "python3"
  },
  "language_info": {
   "codemirror_mode": {
    "name": "ipython",
    "version": 3
   },
   "file_extension": ".py",
   "mimetype": "text/x-python",
   "name": "python",
   "nbconvert_exporter": "python",
   "pygments_lexer": "ipython3",
   "version": "3.8.5"
  }
 },
 "nbformat": 4,
 "nbformat_minor": 4
}
